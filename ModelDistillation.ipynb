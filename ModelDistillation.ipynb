{
 "cells": [
  {
   "cell_type": "code",
   "execution_count": null,
   "metadata": {
    "colab": {
     "base_uri": "https://localhost:8080/"
    },
    "id": "sEk-bXzw2gz5",
    "outputId": "b5816a1c-6eb9-4a72-86bd-6cf44fa1ef6b"
   },
   "outputs": [
    {
     "name": "stdout",
     "output_type": "stream",
     "text": [
      "Requirement already satisfied: transformers==4.40.2 in /usr/local/lib/python3.12/dist-packages (4.40.2)\n",
      "Requirement already satisfied: datasets in /usr/local/lib/python3.12/dist-packages (4.0.0)\n",
      "Requirement already satisfied: accelerate in /usr/local/lib/python3.12/dist-packages (1.10.0)\n",
      "Requirement already satisfied: filelock in /usr/local/lib/python3.12/dist-packages (from transformers==4.40.2) (3.19.1)\n",
      "Requirement already satisfied: huggingface-hub<1.0,>=0.19.3 in /usr/local/lib/python3.12/dist-packages (from transformers==4.40.2) (0.34.4)\n",
      "Requirement already satisfied: numpy>=1.17 in /usr/local/lib/python3.12/dist-packages (from transformers==4.40.2) (2.0.2)\n",
      "Requirement already satisfied: packaging>=20.0 in /usr/local/lib/python3.12/dist-packages (from transformers==4.40.2) (25.0)\n",
      "Requirement already satisfied: pyyaml>=5.1 in /usr/local/lib/python3.12/dist-packages (from transformers==4.40.2) (6.0.2)\n",
      "Requirement already satisfied: regex!=2019.12.17 in /usr/local/lib/python3.12/dist-packages (from transformers==4.40.2) (2024.11.6)\n",
      "Requirement already satisfied: requests in /usr/local/lib/python3.12/dist-packages (from transformers==4.40.2) (2.32.4)\n",
      "Requirement already satisfied: tokenizers<0.20,>=0.19 in /usr/local/lib/python3.12/dist-packages (from transformers==4.40.2) (0.19.1)\n",
      "Requirement already satisfied: safetensors>=0.4.1 in /usr/local/lib/python3.12/dist-packages (from transformers==4.40.2) (0.6.2)\n",
      "Requirement already satisfied: tqdm>=4.27 in /usr/local/lib/python3.12/dist-packages (from transformers==4.40.2) (4.67.1)\n",
      "Requirement already satisfied: pyarrow>=15.0.0 in /usr/local/lib/python3.12/dist-packages (from datasets) (18.1.0)\n",
      "Requirement already satisfied: dill<0.3.9,>=0.3.0 in /usr/local/lib/python3.12/dist-packages (from datasets) (0.3.8)\n",
      "Requirement already satisfied: pandas in /usr/local/lib/python3.12/dist-packages (from datasets) (2.2.2)\n",
      "Requirement already satisfied: xxhash in /usr/local/lib/python3.12/dist-packages (from datasets) (3.5.0)\n",
      "Requirement already satisfied: multiprocess<0.70.17 in /usr/local/lib/python3.12/dist-packages (from datasets) (0.70.16)\n",
      "Requirement already satisfied: fsspec<=2025.3.0,>=2023.1.0 in /usr/local/lib/python3.12/dist-packages (from fsspec[http]<=2025.3.0,>=2023.1.0->datasets) (2025.3.0)\n",
      "Requirement already satisfied: psutil in /usr/local/lib/python3.12/dist-packages (from accelerate) (5.9.5)\n",
      "Requirement already satisfied: torch>=2.0.0 in /usr/local/lib/python3.12/dist-packages (from accelerate) (2.8.0+cu126)\n",
      "Requirement already satisfied: aiohttp!=4.0.0a0,!=4.0.0a1 in /usr/local/lib/python3.12/dist-packages (from fsspec[http]<=2025.3.0,>=2023.1.0->datasets) (3.12.15)\n",
      "Requirement already satisfied: typing-extensions>=3.7.4.3 in /usr/local/lib/python3.12/dist-packages (from huggingface-hub<1.0,>=0.19.3->transformers==4.40.2) (4.14.1)\n",
      "Requirement already satisfied: hf-xet<2.0.0,>=1.1.3 in /usr/local/lib/python3.12/dist-packages (from huggingface-hub<1.0,>=0.19.3->transformers==4.40.2) (1.1.7)\n",
      "Requirement already satisfied: charset_normalizer<4,>=2 in /usr/local/lib/python3.12/dist-packages (from requests->transformers==4.40.2) (3.4.3)\n",
      "Requirement already satisfied: idna<4,>=2.5 in /usr/local/lib/python3.12/dist-packages (from requests->transformers==4.40.2) (3.10)\n",
      "Requirement already satisfied: urllib3<3,>=1.21.1 in /usr/local/lib/python3.12/dist-packages (from requests->transformers==4.40.2) (2.5.0)\n",
      "Requirement already satisfied: certifi>=2017.4.17 in /usr/local/lib/python3.12/dist-packages (from requests->transformers==4.40.2) (2025.8.3)\n",
      "Requirement already satisfied: setuptools in /usr/local/lib/python3.12/dist-packages (from torch>=2.0.0->accelerate) (75.2.0)\n",
      "Requirement already satisfied: sympy>=1.13.3 in /usr/local/lib/python3.12/dist-packages (from torch>=2.0.0->accelerate) (1.13.3)\n",
      "Requirement already satisfied: networkx in /usr/local/lib/python3.12/dist-packages (from torch>=2.0.0->accelerate) (3.5)\n",
      "Requirement already satisfied: jinja2 in /usr/local/lib/python3.12/dist-packages (from torch>=2.0.0->accelerate) (3.1.6)\n",
      "Requirement already satisfied: nvidia-cuda-nvrtc-cu12==12.6.77 in /usr/local/lib/python3.12/dist-packages (from torch>=2.0.0->accelerate) (12.6.77)\n",
      "Requirement already satisfied: nvidia-cuda-runtime-cu12==12.6.77 in /usr/local/lib/python3.12/dist-packages (from torch>=2.0.0->accelerate) (12.6.77)\n",
      "Requirement already satisfied: nvidia-cuda-cupti-cu12==12.6.80 in /usr/local/lib/python3.12/dist-packages (from torch>=2.0.0->accelerate) (12.6.80)\n",
      "Requirement already satisfied: nvidia-cudnn-cu12==9.10.2.21 in /usr/local/lib/python3.12/dist-packages (from torch>=2.0.0->accelerate) (9.10.2.21)\n",
      "Requirement already satisfied: nvidia-cublas-cu12==12.6.4.1 in /usr/local/lib/python3.12/dist-packages (from torch>=2.0.0->accelerate) (12.6.4.1)\n",
      "Requirement already satisfied: nvidia-cufft-cu12==11.3.0.4 in /usr/local/lib/python3.12/dist-packages (from torch>=2.0.0->accelerate) (11.3.0.4)\n",
      "Requirement already satisfied: nvidia-curand-cu12==10.3.7.77 in /usr/local/lib/python3.12/dist-packages (from torch>=2.0.0->accelerate) (10.3.7.77)\n",
      "Requirement already satisfied: nvidia-cusolver-cu12==11.7.1.2 in /usr/local/lib/python3.12/dist-packages (from torch>=2.0.0->accelerate) (11.7.1.2)\n",
      "Requirement already satisfied: nvidia-cusparse-cu12==12.5.4.2 in /usr/local/lib/python3.12/dist-packages (from torch>=2.0.0->accelerate) (12.5.4.2)\n",
      "Requirement already satisfied: nvidia-cusparselt-cu12==0.7.1 in /usr/local/lib/python3.12/dist-packages (from torch>=2.0.0->accelerate) (0.7.1)\n",
      "Requirement already satisfied: nvidia-nccl-cu12==2.27.3 in /usr/local/lib/python3.12/dist-packages (from torch>=2.0.0->accelerate) (2.27.3)\n",
      "Requirement already satisfied: nvidia-nvtx-cu12==12.6.77 in /usr/local/lib/python3.12/dist-packages (from torch>=2.0.0->accelerate) (12.6.77)\n",
      "Requirement already satisfied: nvidia-nvjitlink-cu12==12.6.85 in /usr/local/lib/python3.12/dist-packages (from torch>=2.0.0->accelerate) (12.6.85)\n",
      "Requirement already satisfied: nvidia-cufile-cu12==1.11.1.6 in /usr/local/lib/python3.12/dist-packages (from torch>=2.0.0->accelerate) (1.11.1.6)\n",
      "Requirement already satisfied: triton==3.4.0 in /usr/local/lib/python3.12/dist-packages (from torch>=2.0.0->accelerate) (3.4.0)\n",
      "Requirement already satisfied: python-dateutil>=2.8.2 in /usr/local/lib/python3.12/dist-packages (from pandas->datasets) (2.9.0.post0)\n",
      "Requirement already satisfied: pytz>=2020.1 in /usr/local/lib/python3.12/dist-packages (from pandas->datasets) (2025.2)\n",
      "Requirement already satisfied: tzdata>=2022.7 in /usr/local/lib/python3.12/dist-packages (from pandas->datasets) (2025.2)\n",
      "Requirement already satisfied: aiohappyeyeballs>=2.5.0 in /usr/local/lib/python3.12/dist-packages (from aiohttp!=4.0.0a0,!=4.0.0a1->fsspec[http]<=2025.3.0,>=2023.1.0->datasets) (2.6.1)\n",
      "Requirement already satisfied: aiosignal>=1.4.0 in /usr/local/lib/python3.12/dist-packages (from aiohttp!=4.0.0a0,!=4.0.0a1->fsspec[http]<=2025.3.0,>=2023.1.0->datasets) (1.4.0)\n",
      "Requirement already satisfied: attrs>=17.3.0 in /usr/local/lib/python3.12/dist-packages (from aiohttp!=4.0.0a0,!=4.0.0a1->fsspec[http]<=2025.3.0,>=2023.1.0->datasets) (25.3.0)\n",
      "Requirement already satisfied: frozenlist>=1.1.1 in /usr/local/lib/python3.12/dist-packages (from aiohttp!=4.0.0a0,!=4.0.0a1->fsspec[http]<=2025.3.0,>=2023.1.0->datasets) (1.7.0)\n",
      "Requirement already satisfied: multidict<7.0,>=4.5 in /usr/local/lib/python3.12/dist-packages (from aiohttp!=4.0.0a0,!=4.0.0a1->fsspec[http]<=2025.3.0,>=2023.1.0->datasets) (6.6.4)\n",
      "Requirement already satisfied: propcache>=0.2.0 in /usr/local/lib/python3.12/dist-packages (from aiohttp!=4.0.0a0,!=4.0.0a1->fsspec[http]<=2025.3.0,>=2023.1.0->datasets) (0.3.2)\n",
      "Requirement already satisfied: yarl<2.0,>=1.17.0 in /usr/local/lib/python3.12/dist-packages (from aiohttp!=4.0.0a0,!=4.0.0a1->fsspec[http]<=2025.3.0,>=2023.1.0->datasets) (1.20.1)\n",
      "Requirement already satisfied: six>=1.5 in /usr/local/lib/python3.12/dist-packages (from python-dateutil>=2.8.2->pandas->datasets) (1.17.0)\n",
      "Requirement already satisfied: mpmath<1.4,>=1.1.0 in /usr/local/lib/python3.12/dist-packages (from sympy>=1.13.3->torch>=2.0.0->accelerate) (1.3.0)\n",
      "Requirement already satisfied: MarkupSafe>=2.0 in /usr/local/lib/python3.12/dist-packages (from jinja2->torch>=2.0.0->accelerate) (3.0.2)\n",
      "Using device: cuda\n"
     ]
    }
   ],
   "source": [
    "!pip install torch torchvision torchaudio transformers datasets accelerate -q\n",
    "!pip install transformers==4.40.2 datasets accelerate\n",
    "\n",
    "import torch\n",
    "import torch.nn.functional as F\n",
    "from torch.utils.data import DataLoader\n",
    "from datasets import load_dataset\n",
    "from transformers import AutoTokenizer, AutoModelForSequenceClassification, get_scheduler\n",
    "from torch.optim import AdamW\n",
    "\n",
    "device = torch.device(\"cuda\" if torch.cuda.is_available() else \"cpu\")\n",
    "print(\"Using device:\", device)\n"
   ]
  },
  {
   "cell_type": "code",
   "execution_count": null,
   "metadata": {
    "colab": {
     "base_uri": "https://localhost:8080/",
     "height": 592,
     "referenced_widgets": [
      "d3ce78031606478d960cd466949a4603",
      "eb858a7edbc94861aadd4e7901d2bc7f",
      "ce7d1684f93843eda2c1038f8b47bf42",
      "b1914a407dc146159e293834b2b612e1",
      "e5fae65e30f44078945ce4a43dbcfc6b",
      "64898f884a3e434292bbfa1bbb8748ce",
      "c85146e9ffa7454c846995593a61d124",
      "fe7dd8566a884fd58d5a8ca923a95e6d",
      "8894794594144c4fb7472b230c300ef6",
      "2139ff5bcf1342218e316fe573367879",
      "830affb4c3514eac85cca4d859506780",
      "23174c43d5ae4587a9aa04360d55ad2b",
      "912a422a49544f7e9dd21389a1463750",
      "5327bf502d414f0ebad3d5eeebf52104",
      "545ecaa722e54c7aa74c3d4a41c68505",
      "3f024169c9b843998896711490b307be",
      "2e29cafb3c0543ef9b68846713bfd1f8",
      "21b241fd3f664cc097f6477528089c50",
      "7111aa8f87e746649a00bf94682b8392",
      "91669df37ba843c2b9b2c1a4d9550a30",
      "ae3283bf340549d583f86c85bad0e844",
      "4a08d8b5e9b84c6a8e8d359861832b9d",
      "a62c6df1a2394585a219bea25d504a6b",
      "52a1e46decbe48f6b404820636c81b56",
      "32b3bb77a85e4cba8b88eac6f1976ead",
      "3863f2efe4ac4bfdb9bc0cb5de7afe9b",
      "bf99b41b7f7b412abe0dbffdd477f497",
      "049e385d2f744b8cb6444fc0bd43a2bc",
      "db098a754aa44fab847468ed34265ce5",
      "7805a2b851bf45e68c17cd415242dab0",
      "6f06796150dc4d30a314493d5fe5ab50",
      "fbbc35f7422947fcb2a4eb197237bc23",
      "82cc3061fb8041cab0fec5a900400156",
      "e589419619e1453e8d7f1ed9a63856d7",
      "0034200adca74c099fab1736911b4073",
      "b7f111288a5048a89593ae567d215141",
      "6545d48522bb47b68545a3b295d79156",
      "d8a2a52bb492474cae0cdbbc0875c913",
      "840d3d8bb1f848858c400d5624d8a340",
      "4d6e3e6f24b64103a5c352a7717260a5",
      "7a46f5312e6f4d158da58cbb2f278823",
      "c74fb81bf50d4d80bee5502a71449e31",
      "c8b1069c5c844d48ab60b2e05e58f768",
      "4141b421edfc4746a57b5d3096548987",
      "7071698785e145caa462ff7260f27bb4",
      "bd7af04d6c7c43dcb31e2fef2ee6a064",
      "7b0bfcb079e94b219cb392f73ff34a5d",
      "e3850fcdfcbb4ba3a2d3aa15cee72503",
      "d53fda1d233b49b2aa7e168ac6681e67",
      "5399519070dc4225bf9bc60994e98226",
      "485acb59cddf494c9cba07692b01ce34",
      "231b8a4302f649fbb77e8a80e190d5d3",
      "5e159cd76fed4af5927ba1926cbc6a40",
      "e86bcbe4bf0844ce84c2a0786c783ad9",
      "21d542a29cc24b32ae2069ba5d90ed31",
      "3e6636e4d53e4f2fa097620134661442",
      "929e5330d885414791ed90987fd42b10",
      "52674213970f4d97b78fb928cd01eb2f",
      "5374555fa4d645919f26af512238f048",
      "0a68ecf0644a49bfaeb31396f87f937b",
      "ffd8d0e62f014cdcaf9987acc0b5211d",
      "69d50a7dd0954a9f99cadd2f8819a12e",
      "95bc2970cb91425aa6aa28f25d350fff",
      "7dcdba7e7a354d059e44f0e3a8cce3a0",
      "ea012283616849e78bab4c3c0e0fda88",
      "5ceef024998742789752d715dc8cc9f5",
      "820878f983fc4f4982fc503ec2f4df5b",
      "9e24cccffd3b4cd58f07ad6d00bc0dcb",
      "9a65cea12c894f0fbf6529709633ff9b",
      "536de6d797434451a837dfbc0474f5c8",
      "c46f54e591554b5396119b093be60f56",
      "0b8d4b737c3b4288a5aa82e9f0ce2256",
      "ede66e1a2ac44ced881d45932911b2fa",
      "f0426fb7b1d44a6c89c994dd7590d170",
      "a086d6131904425ebf9a2cf0e29b9769",
      "0847cbdca84b41aabcae4a6e0af5e759",
      "b5b35a22c45b43478140450afbae314c",
      "ce266bc30f5d41fcaeb10cb73fa5e1f9",
      "aba29b6aa85e41268ac15e003d274457",
      "9a05e0ad19ff424ea8178062a5b0aa11",
      "897a93f14c554deeb222b38b3bbea01d",
      "a8c455b2b7a0411bb3269be27cb716e2",
      "d45c8289184f4c5ab65e8ef034087e06",
      "7c009c0bc0bf4c619d7ce41135974eff",
      "ed4f6ab960764a768510deb14067f8e1",
      "bb45c33a12804c029bdfbd0e6f7c40b2",
      "b90edc7b24304564a65315eef2e58c86",
      "a73ebd371d754bcba02df066cca9e5c1",
      "2c4dfd8e2c594da194e458c51ba87055",
      "1c7b0a7d55d4446abbde7791a01bcc65",
      "d6e74bae4e844451a27de149b65dccdd",
      "c22fd6f8648a4f46914997a243e88133",
      "8925fb5824f743da92bfaffd606c5b33",
      "6081baece28148fc8984d3ec9be0c052",
      "3bd2b63c0f484d0691525da28fce2e30",
      "4cd30ac3d0234807a5da4036b4d30097",
      "293611bdccc84c37a9b028e2d5cd7e60",
      "333e7accfdf24a9eae542858d399c586",
      "9280dee6092d469d80058413c4439805",
      "52a61a2090644ce9939662559ad4b255",
      "21bd58ecfea3413ea9c2699f09dd26f9",
      "2a23146e19754614a06e4b1ae5bcae8d",
      "4967dba00ab84ba98b835afc1620fff2",
      "8f8fe164dc2e4216825939b9164b8ef2",
      "f2537364aa4d4adaaa21be1c33576af7",
      "835ec6b5edbd4368a0461cff33b7afcf",
      "0f0c247eb28445368df9b40885c1ffea",
      "433d561ee8264bfc89d518e6f2108e35",
      "506785f90e9a46ba8100f61bf803f365",
      "9c8d1a95490f4491b7d92ff9f632a3e1",
      "66ef2bf9f20b45b494d518dc73b9e76b",
      "22edbe2470b045cf841c15ca5844e37a",
      "45bc74c8c4bd4c3181f4b1d4ba9b44d8",
      "be7cfb2ca7ce46efba30c8aa5d9c5e18",
      "218b280e54bf4014809140a243fda058",
      "3230a3509aaa4c81b3ba48b91bb05a47",
      "ed84dda3cc674437a60d7583399af5a7",
      "b27030e8203d437e9c6c3468e33b2d52",
      "54b86938ad384286b5fc91c0d4114b02",
      "3844e1f7bdfc478a82e685b195538bef",
      "3e0f3a5a24a54480ba55df1245413f98",
      "cd15070bfbe8424db0a0c5a7ee752e8a",
      "453b28b5a14b46ac91f7ebe18cb0a152",
      "3d0223d6f37444e396a2d18d3b89841c",
      "4ca592e2313c426f9397c96a3782f91d",
      "df1cb1fb2d9247d3beb4162b4a112e7c",
      "e68f7ed1e6a8432abe54aa6c8d888080",
      "94274e14f1ca45a0b7acf867e2302343",
      "0c62c9f1da9444a0bb436e0d641697aa",
      "94fafe410fce458daba5643d5fedbbf1",
      "5013c0e2eba848179a53ba99e50b84b6",
      "4e4f45d0350945e1a583987175bdbbc0",
      "b9660b28d17e48cea783238fa9429f81",
      "3a401f2e100b4b7984bd3f2207c1b6aa",
      "773f5bbc57794a54a7ce66d601c21b37",
      "b7fa8cd4708f41dab7089629e6a1fa67",
      "a47c809226e040f28fcdb5cd4bb86c95",
      "3c90f5a455ca44e584215799c6eae00b",
      "2a828b34a6d3412bb5fa399f4569f47a",
      "8310660b26764ddeb61385ccc99d01d6",
      "5ae6b6c0e115467b93aa0b787015edf7",
      "ac9d2c2038dc417f96fef3a28fcc5e0e",
      "6c4f17a697bc477bbff9be5b0edbc645"
     ]
    },
    "id": "RgRHHeMbBkIe",
    "outputId": "e3a730da-8718-4dcf-db9d-6a5bf42fee82"
   },
   "outputs": [
    {
     "name": "stderr",
     "output_type": "stream",
     "text": [
      "/usr/local/lib/python3.12/dist-packages/huggingface_hub/utils/_auth.py:94: UserWarning: \n",
      "The secret `HF_TOKEN` does not exist in your Colab secrets.\n",
      "To authenticate with the Hugging Face Hub, create a token in your settings tab (https://huggingface.co/settings/tokens), set it as secret in your Google Colab and restart your session.\n",
      "You will be able to reuse this secret in all of your notebooks.\n",
      "Please note that authentication is recommended but still optional to access public models or datasets.\n",
      "  warnings.warn(\n"
     ]
    },
    {
     "data": {
      "application/vnd.jupyter.widget-view+json": {
       "model_id": "d3ce78031606478d960cd466949a4603",
       "version_major": 2,
       "version_minor": 0
      },
      "text/plain": [
       "README.md: 0.00B [00:00, ?B/s]"
      ]
     },
     "metadata": {},
     "output_type": "display_data"
    },
    {
     "data": {
      "application/vnd.jupyter.widget-view+json": {
       "model_id": "23174c43d5ae4587a9aa04360d55ad2b",
       "version_major": 2,
       "version_minor": 0
      },
      "text/plain": [
       "sst2/train-00000-of-00001.parquet:   0%|          | 0.00/3.11M [00:00<?, ?B/s]"
      ]
     },
     "metadata": {},
     "output_type": "display_data"
    },
    {
     "data": {
      "application/vnd.jupyter.widget-view+json": {
       "model_id": "a62c6df1a2394585a219bea25d504a6b",
       "version_major": 2,
       "version_minor": 0
      },
      "text/plain": [
       "sst2/validation-00000-of-00001.parquet:   0%|          | 0.00/72.8k [00:00<?, ?B/s]"
      ]
     },
     "metadata": {},
     "output_type": "display_data"
    },
    {
     "data": {
      "application/vnd.jupyter.widget-view+json": {
       "model_id": "e589419619e1453e8d7f1ed9a63856d7",
       "version_major": 2,
       "version_minor": 0
      },
      "text/plain": [
       "sst2/test-00000-of-00001.parquet:   0%|          | 0.00/148k [00:00<?, ?B/s]"
      ]
     },
     "metadata": {},
     "output_type": "display_data"
    },
    {
     "data": {
      "application/vnd.jupyter.widget-view+json": {
       "model_id": "7071698785e145caa462ff7260f27bb4",
       "version_major": 2,
       "version_minor": 0
      },
      "text/plain": [
       "Generating train split:   0%|          | 0/67349 [00:00<?, ? examples/s]"
      ]
     },
     "metadata": {},
     "output_type": "display_data"
    },
    {
     "data": {
      "application/vnd.jupyter.widget-view+json": {
       "model_id": "3e6636e4d53e4f2fa097620134661442",
       "version_major": 2,
       "version_minor": 0
      },
      "text/plain": [
       "Generating validation split:   0%|          | 0/872 [00:00<?, ? examples/s]"
      ]
     },
     "metadata": {},
     "output_type": "display_data"
    },
    {
     "data": {
      "application/vnd.jupyter.widget-view+json": {
       "model_id": "820878f983fc4f4982fc503ec2f4df5b",
       "version_major": 2,
       "version_minor": 0
      },
      "text/plain": [
       "Generating test split:   0%|          | 0/1821 [00:00<?, ? examples/s]"
      ]
     },
     "metadata": {},
     "output_type": "display_data"
    },
    {
     "name": "stderr",
     "output_type": "stream",
     "text": [
      "/usr/local/lib/python3.12/dist-packages/huggingface_hub/file_download.py:945: FutureWarning: `resume_download` is deprecated and will be removed in version 1.0.0. Downloads always resume when possible. If you want to force a new download, use `force_download=True`.\n",
      "  warnings.warn(\n"
     ]
    },
    {
     "data": {
      "application/vnd.jupyter.widget-view+json": {
       "model_id": "ce266bc30f5d41fcaeb10cb73fa5e1f9",
       "version_major": 2,
       "version_minor": 0
      },
      "text/plain": [
       "tokenizer_config.json:   0%|          | 0.00/48.0 [00:00<?, ?B/s]"
      ]
     },
     "metadata": {},
     "output_type": "display_data"
    },
    {
     "data": {
      "application/vnd.jupyter.widget-view+json": {
       "model_id": "2c4dfd8e2c594da194e458c51ba87055",
       "version_major": 2,
       "version_minor": 0
      },
      "text/plain": [
       "config.json:   0%|          | 0.00/483 [00:00<?, ?B/s]"
      ]
     },
     "metadata": {},
     "output_type": "display_data"
    },
    {
     "data": {
      "application/vnd.jupyter.widget-view+json": {
       "model_id": "52a61a2090644ce9939662559ad4b255",
       "version_major": 2,
       "version_minor": 0
      },
      "text/plain": [
       "vocab.txt:   0%|          | 0.00/232k [00:00<?, ?B/s]"
      ]
     },
     "metadata": {},
     "output_type": "display_data"
    },
    {
     "data": {
      "application/vnd.jupyter.widget-view+json": {
       "model_id": "66ef2bf9f20b45b494d518dc73b9e76b",
       "version_major": 2,
       "version_minor": 0
      },
      "text/plain": [
       "tokenizer.json:   0%|          | 0.00/466k [00:00<?, ?B/s]"
      ]
     },
     "metadata": {},
     "output_type": "display_data"
    },
    {
     "data": {
      "application/vnd.jupyter.widget-view+json": {
       "model_id": "cd15070bfbe8424db0a0c5a7ee752e8a",
       "version_major": 2,
       "version_minor": 0
      },
      "text/plain": [
       "Map:   0%|          | 0/67349 [00:00<?, ? examples/s]"
      ]
     },
     "metadata": {},
     "output_type": "display_data"
    },
    {
     "data": {
      "application/vnd.jupyter.widget-view+json": {
       "model_id": "b9660b28d17e48cea783238fa9429f81",
       "version_major": 2,
       "version_minor": 0
      },
      "text/plain": [
       "Map:   0%|          | 0/872 [00:00<?, ? examples/s]"
      ]
     },
     "metadata": {},
     "output_type": "display_data"
    }
   ],
   "source": [
    "dataset = load_dataset(\"glue\", \"sst2\")\n",
    "\n",
    "train_dataset = dataset[\"train\"]\n",
    "val_dataset = dataset[\"validation\"]\n",
    "\n",
    "teacher_model_name = \"distilbert-base-uncased\"\n",
    "tokenizer = AutoTokenizer.from_pretrained(teacher_model_name)\n",
    "\n",
    "def tokenize_fn(batch):\n",
    "    return tokenizer(batch[\"sentence\"], padding=\"max_length\", truncation=True, max_length=128)\n",
    "\n",
    "train_dataset = train_dataset.map(tokenize_fn, batched=True)\n",
    "val_dataset = val_dataset.map(tokenize_fn, batched=True)\n",
    "\n",
    "train_dataset.set_format(type=\"torch\", columns=[\"input_ids\", \"attention_mask\", \"label\"])\n",
    "val_dataset.set_format(type=\"torch\", columns=[\"input_ids\", \"attention_mask\", \"label\"])\n",
    "\n",
    "train_loader = DataLoader(train_dataset, batch_size=32, shuffle=True)\n",
    "val_loader = DataLoader(val_dataset, batch_size=32)\n"
   ]
  },
  {
   "cell_type": "code",
   "execution_count": null,
   "metadata": {
    "colab": {
     "base_uri": "https://localhost:8080/",
     "height": 237,
     "referenced_widgets": [
      "c9afa623df76486ba6213029ea49aa05",
      "3974b9a3e9f24ae9aecf302984ccecd7",
      "570cb03aa22c4055b15be4b4ba9c0451",
      "c998b4878fc74676850e975aff38a024",
      "9226a82663234fdb8e02e83df3fd4432",
      "7c474306a0dc44cf9e02c5278f3ed71f",
      "4e46e2e947034f5fb5b91b3dd0de1b2a",
      "186cc642af96480d8ba51a89789f0a4e",
      "2498875cae464c67b94b09c69a8a0657",
      "d152d981464d47dfb272be32e338f555",
      "36b82e164f274c5591fcdfa5c4375986",
      "ea78cb0a489e4fe3b13b3e852a6b9c7b",
      "de8449bf0a7f4a1b95fadba3d9783810",
      "eb583e0479c3489c81fa1cd975b917c1",
      "f953581dc3e545c4b44569d6ba2c6636",
      "f39baf54f0f043f9a88102730d0467ee",
      "771bd9c3860f4dd18cc39bfef668c7dd",
      "8da7122a74804b438b3a31ac19af26a5",
      "ff74d1df083343c1a01c890d632d6213",
      "95a3e7077f564e6db776338d6ded3dd4",
      "a8b82977c2d54984a1e9ec39d6c0d124",
      "cb308f26e6f34687b04f5255cb70b748",
      "592dee6e72de4ef48602c2cbd5835b84",
      "51ccc26f020048b6aaea2d55e6ce066a",
      "ec9c5575c8d24518a081b434bd0b66b2",
      "289b31cbd3d84d8295ffae8c9670f112",
      "7a6e3cda48dd4c16aee8eb9317e89f22",
      "89d4a9d74f864fd096654711282788b0",
      "708d7867c9c74c16a0112dd012cc161e",
      "0e125cf4ef954fb097d3e21641c5b9e3",
      "b4fc095f64b64a43847d6048fc8f187b",
      "d42acf3379844967b1dd96132221d64f",
      "8dc1975cab19436ab1c7669160d229f8"
     ]
    },
    "id": "rwZP1qbrCdyd",
    "outputId": "74eab23b-d247-4d46-d57e-27ca443629bb"
   },
   "outputs": [
    {
     "name": "stderr",
     "output_type": "stream",
     "text": [
      "/usr/local/lib/python3.12/dist-packages/huggingface_hub/file_download.py:945: FutureWarning: `resume_download` is deprecated and will be removed in version 1.0.0. Downloads always resume when possible. If you want to force a new download, use `force_download=True`.\n",
      "  warnings.warn(\n"
     ]
    },
    {
     "data": {
      "application/vnd.jupyter.widget-view+json": {
       "model_id": "c9afa623df76486ba6213029ea49aa05",
       "version_major": 2,
       "version_minor": 0
      },
      "text/plain": [
       "model.safetensors:   0%|          | 0.00/268M [00:00<?, ?B/s]"
      ]
     },
     "metadata": {},
     "output_type": "display_data"
    },
    {
     "name": "stderr",
     "output_type": "stream",
     "text": [
      "Some weights of DistilBertForSequenceClassification were not initialized from the model checkpoint at distilbert-base-uncased and are newly initialized: ['classifier.bias', 'classifier.weight', 'pre_classifier.bias', 'pre_classifier.weight']\n",
      "You should probably TRAIN this model on a down-stream task to be able to use it for predictions and inference.\n"
     ]
    },
    {
     "data": {
      "application/vnd.jupyter.widget-view+json": {
       "model_id": "ea78cb0a489e4fe3b13b3e852a6b9c7b",
       "version_major": 2,
       "version_minor": 0
      },
      "text/plain": [
       "config.json:   0%|          | 0.00/382 [00:00<?, ?B/s]"
      ]
     },
     "metadata": {},
     "output_type": "display_data"
    },
    {
     "data": {
      "application/vnd.jupyter.widget-view+json": {
       "model_id": "592dee6e72de4ef48602c2cbd5835b84",
       "version_major": 2,
       "version_minor": 0
      },
      "text/plain": [
       "model.safetensors:   0%|          | 0.00/17.7M [00:00<?, ?B/s]"
      ]
     },
     "metadata": {},
     "output_type": "display_data"
    },
    {
     "name": "stderr",
     "output_type": "stream",
     "text": [
      "Some weights of BertForSequenceClassification were not initialized from the model checkpoint at google/bert_uncased_L-2_H-128_A-2 and are newly initialized: ['classifier.bias', 'classifier.weight']\n",
      "You should probably TRAIN this model on a down-stream task to be able to use it for predictions and inference.\n"
     ]
    }
   ],
   "source": [
    "\n",
    "teacher = AutoModelForSequenceClassification.from_pretrained(teacher_model_name, num_labels=2).to(device)\n",
    "teacher.eval()\n",
    "\n",
    "student_model_name = \"google/bert_uncased_L-2_H-128_A-2\"\n",
    "student = AutoModelForSequenceClassification.from_pretrained(student_model_name, num_labels=2).to(device)\n",
    "\n",
    "optimizer = AdamW(student.parameters(), lr=5e-5)\n",
    "num_epochs = 2\n",
    "num_training_steps = num_epochs * len(train_loader)\n",
    "lr_scheduler = get_scheduler(\"linear\", optimizer, num_warmup_steps=0, num_training_steps=num_training_steps)\n"
   ]
  },
  {
   "cell_type": "code",
   "execution_count": null,
   "metadata": {
    "id": "bty3m2YNDdPu"
   },
   "outputs": [],
   "source": [
    "def distillation_loss(student_logits, teacher_logits, labels, T=2.0, alpha=0.7):\n",
    "\n",
    "    distill_loss = F.kl_div(\n",
    "        F.log_softmax(student_logits / T, dim=-1),\n",
    "        F.softmax(teacher_logits / T, dim=-1),\n",
    "        reduction=\"batchmean\"\n",
    "    ) * (T * T)\n",
    "\n",
    "    ce_loss = F.cross_entropy(student_logits, labels)\n",
    "\n",
    "    return alpha * distill_loss + (1 - alpha) * ce_loss\n"
   ]
  },
  {
   "cell_type": "code",
   "execution_count": null,
   "metadata": {
    "colab": {
     "base_uri": "https://localhost:8080/"
    },
    "id": "aGnhj3N5D055",
    "outputId": "79704efa-6c40-40ae-ce21-e3d095e13ef7"
   },
   "outputs": [
    {
     "name": "stderr",
     "output_type": "stream",
     "text": [
      "Epoch 1: 100%|██████████| 2105/2105 [04:12<00:00,  8.35it/s, loss=0.166]\n",
      "Epoch 2: 100%|██████████| 2105/2105 [04:14<00:00,  8.26it/s, loss=0.168]\n"
     ]
    }
   ],
   "source": [
    "from tqdm import tqdm\n",
    "\n",
    "for epoch in range(num_epochs):\n",
    "    student.train()\n",
    "    progress_bar = tqdm(train_loader, desc=f\"Epoch {epoch+1}\")\n",
    "    for batch in progress_bar:\n",
    "        batch = {k: v.to(device) for k, v in batch.items()}\n",
    "\n",
    "        with torch.no_grad():\n",
    "            teacher_outputs = teacher(input_ids=batch[\"input_ids\"], attention_mask=batch[\"attention_mask\"])\n",
    "\n",
    "        student_outputs = student(input_ids=batch[\"input_ids\"], attention_mask=batch[\"attention_mask\"])\n",
    "\n",
    "        loss = distillation_loss(student_outputs.logits, teacher_outputs.logits, batch[\"label\"])\n",
    "\n",
    "        optimizer.zero_grad()\n",
    "        loss.backward()\n",
    "        optimizer.step()\n",
    "        lr_scheduler.step()\n",
    "\n",
    "        progress_bar.set_postfix({\"loss\": loss.item()})\n"
   ]
  },
  {
   "cell_type": "code",
   "execution_count": null,
   "metadata": {
    "colab": {
     "base_uri": "https://localhost:8080/"
    },
    "id": "e6OgxoNcFzMq",
    "outputId": "0ef2b326-b6eb-4cf4-b33b-d0f52e34f8f5"
   },
   "outputs": [
    {
     "name": "stdout",
     "output_type": "stream",
     "text": [
      "Teacher Accuracy: 49.08%\n",
      "Student Accuracy: 81.08%\n"
     ]
    }
   ],
   "source": [
    "from sklearn.metrics import accuracy_score\n",
    "\n",
    "def evaluate(model, dataloader):\n",
    "    model.eval()\n",
    "    preds, labels = [], []\n",
    "    with torch.no_grad():\n",
    "        for batch in dataloader:\n",
    "            batch = {k: v.to(device) for k, v in batch.items()}\n",
    "            outputs = model(input_ids=batch[\"input_ids\"], attention_mask=batch[\"attention_mask\"])\n",
    "            preds.extend(torch.argmax(outputs.logits, dim=-1).cpu().numpy())\n",
    "            labels.extend(batch[\"label\"].cpu().numpy())\n",
    "    return accuracy_score(labels, preds)\n",
    "\n",
    "teacher_acc = evaluate(teacher, val_loader)\n",
    "student_acc = evaluate(student, val_loader)\n",
    "\n",
    "print(f\"Teacher Accuracy: {teacher_acc*100:.2f}%\")\n",
    "print(f\"Student Accuracy: {student_acc*100:.2f}%\")\n"
   ]
  },
  {
   "cell_type": "code",
   "execution_count": null,
   "metadata": {
    "colab": {
     "base_uri": "https://localhost:8080/"
    },
    "id": "muiqv7n9GAPb",
    "outputId": "dcad9b79-2bc9-4faa-aaeb-996687b4eba0"
   },
   "outputs": [
    {
     "name": "stdout",
     "output_type": "stream",
     "text": [
      "Student model saved\n"
     ]
    }
   ],
   "source": [
    "student.save_pretrained(\"distilled-student\")\n",
    "tokenizer.save_pretrained(\"distilled-student\")\n",
    "print(\"Student model saved\")\n"
   ]
  }
 ],
 "metadata": {
  "accelerator": "GPU",
  "colab": {
   "gpuType": "T4",
   "provenance": []
  },
  "kernelspec": {
   "display_name": "Python 3",
   "name": "python3"
  },
  "language_info": {
   "name": "python"
  }
 },
 "nbformat": 4,
 "nbformat_minor": 0
}
